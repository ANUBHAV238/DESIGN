{
  "nbformat": 4,
  "nbformat_minor": 0,
  "metadata": {
    "colab": {
      "provenance": [],
      "authorship_tag": "ABX9TyMyw26f9bIiQ7yF1EZRqIf9",
      "include_colab_link": true
    },
    "kernelspec": {
      "name": "python3",
      "display_name": "Python 3"
    },
    "language_info": {
      "name": "python"
    }
  },
  "cells": [
    {
      "cell_type": "markdown",
      "metadata": {
        "id": "view-in-github",
        "colab_type": "text"
      },
      "source": [
        "<a href=\"https://colab.research.google.com/github/ANUBHAV238/DESIGN/blob/main/Anubhav_2428ece613_.ipynb\" target=\"_parent\"><img src=\"https://colab.research.google.com/assets/colab-badge.svg\" alt=\"Open In Colab\"/></a>"
      ]
    },
    {
      "cell_type": "code",
      "source": [
        "print(\"ANUBHAV MULTI NATIONAL STORE\")\n",
        "print(\"WELCOME\")\n",
        "print(\"OUR PRODUCTS\")\n",
        "print(\"DAIRY PRODUCTS\")\n",
        "print(\"VEGETABLES\")\n",
        "print(\"FRUITS\")\n",
        "a=input(\"Dairy Product : \")\n",
        "a1=int(input(\"Quantity(in L) : \"))\n",
        "b=input(\"Vegetable : \")\n",
        "b1=int(input(\"Quantity(in KG) : \"))\n",
        "c=input(\"Fruits : \")\n",
        "c1=int(input(\"Quantity(in KG) :\"))\n",
        "print(\"Dairy Product : \",a)\n",
        "print(\"Quantity : \",a1)\n",
        "print(\"Vegetable : \",b)\n",
        "print(\"Quantity : \",b1)\n",
        "print(\"Fruits : \",c)\n",
        "print(\"Quantity : \",c1)\n",
        "print(\"Thank You\")\n",
        "a2=float(input(\"Dairy Product Price : \"))\n",
        "b2=float(input(\"Vegetable Price : \"))\n",
        "c2=float(input(\"Fruits Price : \"))\n",
        "print(\" Toatl Dairy Product Cost : \",a2*a1)\n",
        "print(\" Total Vegetable Cost: \",b2*b1)\n",
        "print(\"Total Fruits Cost: \",c2*c1)\n",
        "\n",
        "h=a2*a1+b2*b1+c2*c1\n",
        "print(\"Total Cost : \",h)\n",
        "if(h>1000):\n",
        "  print(\"You got 10% discount\")\n",
        "  print(\"Total Cost : \",h-h*0.1)\n",
        "else:\n",
        "  print(\"You didn't get discount\")\n",
        "  print(\"Total Cost : \",h)\n"
      ],
      "metadata": {
        "colab": {
          "base_uri": "https://localhost:8080/",
          "height": 0
        },
        "id": "M7kvw-fVJAjn",
        "outputId": "3f21e06f-c985-4af4-a4ef-7218a7be3327"
      },
      "execution_count": 11,
      "outputs": [
        {
          "output_type": "stream",
          "name": "stdout",
          "text": [
            "ANUBHAV MULTI NATIONAL STORE\n",
            "WELCOME\n",
            "OUR PRODUCTS\n",
            "DAIRY PRODUCTS\n",
            "VEGETABLES\n",
            "FRUITS\n",
            "Dairy Product : Milk\n",
            "Quantity(in L) : 5\n",
            "Vegetable : Aloo\n",
            "Quantity(in KG) : 50\n",
            "Fruits : apple\n",
            "Quantity(in KG) :50\n",
            "Dairy Product :  Milk\n",
            "Quantity :  5\n",
            "Vegetable :  Aloo\n",
            "Quantity :  50\n",
            "Fruits :  apple\n",
            "Quantity :  50\n",
            "Thank You\n",
            "Dairy Product Price : 75\n",
            "Vegetable Price : 50\n",
            "Fruits Price : 100\n",
            " Toatl Dairy Product Cost :  375.0\n",
            " Total Vegetable Cost:  2500.0\n",
            "Total Fruits Cost:  5000.0\n",
            "Total Cost :  7875.0\n",
            "You got 10% discount\n",
            "Total Cost :  7087.5\n"
          ]
        }
      ]
    }
  ]
}